{
 "cells": [
  {
   "cell_type": "code",
   "execution_count": 1,
   "metadata": {},
   "outputs": [
    {
     "name": "stdout",
     "output_type": "stream",
     "text": [
      "Requirement already satisfied: opencv-python in c:\\users\\maheep chaudhary\\anaconda3\\lib\\site-packages (4.1.2.30)\n",
      "Requirement already satisfied: numpy>=1.14.5 in c:\\users\\maheep chaudhary\\anaconda3\\lib\\site-packages (from opencv-python) (1.16.4)\n"
     ]
    }
   ],
   "source": [
    "!pip install opencv-python"
   ]
  },
  {
   "cell_type": "code",
   "execution_count": 2,
   "metadata": {},
   "outputs": [],
   "source": [
    "import cv2\n",
    "import numpy as np\n",
    "\n",
    "def nothing(x):\n",
    "    pass\n",
    "\n",
    "cv2.namedWindow(\"Trackbar\")\n",
    "cap = cv2.VideoCapture(0)\n",
    "\n",
    "cv2.createTrackbar(\"L_H\",\"Trackbar\",0,255,nothing)\n",
    "cv2.createTrackbar(\"L_S\",\"Trackbar\",0,255,nothing)\n",
    "cv2.createTrackbar(\"L_V\",\"Trackbar\",0,255,nothing)\n",
    "cv2.createTrackbar(\"U_H\",\"Trackbar\",255,255,nothing)\n",
    "cv2.createTrackbar(\"U_S\",\"Trackbar\",255,255,nothing)\n",
    "cv2.createTrackbar(\"U_V\",\"Trackbar\",255,255,nothing)\n",
    "\n",
    "while(True):\n",
    "    \n",
    "    _,frame = cap.read()\n",
    "    hsv = cv2.cvtColor(frame,cv2.COLOR_BGR2HSV)\n",
    "    \n",
    "    l_h = cv2.getTrackbarPos(\"L_H\",\"Trackbar\")\n",
    "    l_s = cv2.getTrackbarPos(\"L_S\",\"Trackbar\")\n",
    "    l_v = cv2.getTrackbarPos(\"L_V\",\"Trackbar\")\n",
    "    u_h = cv2.getTrackbarPos(\"U_H\",\"Trackbar\")\n",
    "    u_s = cv2.getTrackbarPos(\"U_S\",\"Trackbar\")\n",
    "    u_v = cv2.getTrackbarPos(\"U_V\",\"Trackbar\")\n",
    "    \n",
    "    l_b = np.array([l_h,l_s,l_v])\n",
    "    u_b = np.array([u_h,u_s,u_v])\n",
    "    Mask = cv2.inRange(hsv,l_b,u_b)\n",
    "    \n",
    "    res = cv2.bitwise_and(frame,frame, mask = Mask)\n",
    "    \n",
    "    cv2.imshow(\"frame\",frame)\n",
    "    cv2.imshow(\"mask\",Mask)\n",
    "    cv2.imshow(\"res\",res)\n",
    "    key = cv2.waitKey(1)\n",
    "    if key == 27:\n",
    "        break\n",
    "cap.release()\n",
    "cv2.destroyAllWindows()\n",
    "\n"
   ]
  },
  {
   "cell_type": "code",
   "execution_count": null,
   "metadata": {},
   "outputs": [],
   "source": []
  }
 ],
 "metadata": {
  "kernelspec": {
   "display_name": "Python 3",
   "language": "python",
   "name": "python3"
  },
  "language_info": {
   "codemirror_mode": {
    "name": "ipython",
    "version": 3
   },
   "file_extension": ".py",
   "mimetype": "text/x-python",
   "name": "python",
   "nbconvert_exporter": "python",
   "pygments_lexer": "ipython3",
   "version": "3.7.3"
  }
 },
 "nbformat": 4,
 "nbformat_minor": 2
}
