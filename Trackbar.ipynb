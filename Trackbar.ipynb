{
 "cells": [
  {
   "cell_type": "code",
   "execution_count": 1,
   "metadata": {},
   "outputs": [
    {
     "name": "stdout",
     "output_type": "stream",
     "text": [
      "Requirement already satisfied: opencv-python in c:\\users\\maheep chaudhary\\anaconda3\\lib\\site-packages (4.1.2.30)\n",
      "Requirement already satisfied: numpy>=1.14.5 in c:\\users\\maheep chaudhary\\anaconda3\\lib\\site-packages (from opencv-python) (1.16.4)\n"
     ]
    }
   ],
   "source": [
    "!pip install opencv-python"
   ]
  },
  {
   "cell_type": "code",
   "execution_count": 11,
   "metadata": {},
   "outputs": [],
   "source": [
    "import imutils\n",
    "import argparse\n",
    "import numpy as np\n",
    "import cv2 as cv\n",
    "\n",
    "vid = cv.VideoCapture(\"moving.mp4\")\n",
    "def nothing(x):\n",
    "    pass\n",
    "cv.namedWindow(\"frame\")\n",
    "cv.createTrackbar(\"LH\",\"frame\",0,255,nothing)    \n",
    "cv.createTrackbar(\"LS\",\"frame\",0,255,nothing)  \n",
    "cv.createTrackbar(\"LV\",\"frame\",0,255,nothing)  \n",
    "cv.createTrackbar(\"UH\",\"frame\",255,255,nothing)  \n",
    "cv.createTrackbar(\"US\",\"frame\",255,255,nothing)  \n",
    "cv.createTrackbar(\"UV\",\"frame\",255,255,nothing)\n",
    "while(vid.isOpened()):\n",
    "    ret,frame = vid.read()\n",
    "    if ret == False:\n",
    "        break\n",
    "        \n",
    "#    frame = cv.cvtColor(frame,cv.COLOR_BGR2HSV)    \n",
    "  \n",
    "    cv.imshow(\"frame\",frame)\n",
    "    if cv.waitKey(47) & 0xFF == ord('q'):\n",
    "        break\n",
    "\n",
    "vid.release()\n",
    "cv.destroyAllWindows()\n"
   ]
  },
  {
   "cell_type": "code",
   "execution_count": null,
   "metadata": {},
   "outputs": [],
   "source": []
  }
 ],
 "metadata": {
  "kernelspec": {
   "display_name": "Python 3",
   "language": "python",
   "name": "python3"
  },
  "language_info": {
   "codemirror_mode": {
    "name": "ipython",
    "version": 3
   },
   "file_extension": ".py",
   "mimetype": "text/x-python",
   "name": "python",
   "nbconvert_exporter": "python",
   "pygments_lexer": "ipython3",
   "version": "3.7.3"
  }
 },
 "nbformat": 4,
 "nbformat_minor": 2
}
