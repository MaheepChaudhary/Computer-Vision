{
 "cells": [
  {
   "cell_type": "code",
   "execution_count": 1,
   "metadata": {},
   "outputs": [
    {
     "name": "stdout",
     "output_type": "stream",
     "text": [
      "Requirement already satisfied: opencv-python in c:\\users\\maheep chaudhary\\anaconda3\\lib\\site-packages (4.1.2.30)\n",
      "Requirement already satisfied: numpy>=1.14.5 in c:\\users\\maheep chaudhary\\anaconda3\\lib\\site-packages (from opencv-python) (1.16.4)\n"
     ]
    }
   ],
   "source": [
    "!pip install opencv-python"
   ]
  },
  {
   "cell_type": "code",
   "execution_count": 8,
   "metadata": {},
   "outputs": [
    {
     "data": {
      "image/png": "[encoded data removed]",
      "text/plain": [
       "<Figure size 432x288 with 6 Axes>"
      ]
     },
     "metadata": {},
     "output_type": "display_data"
    }
   ],
   "source": [
    "import numpy as np\n",
    "from matplotlib import pyplot as plt\n",
    "import cv2 as cv\n",
    "\n",
    "img = cv.imread(\"morph.png\",0)\n",
    "\n",
    "kernal = np.ones((2,2),uint8)\n",
    "\n",
    "dilation = cv.dilate(img,kernal,iterations = 2)\n",
    "erosion  = cv.erode(img,kernal,iterations = 2)\n",
    "opening  = cv.morphologyEx(img,cv.MORPH_OPEN,kernal)\n",
    "closing  = cv.morphologyEx(img,cv.MORPH_CLOSE,kernal)\n",
    "th       = cv.morphologyEx(img,cv.MORPH_TOPHAT,kernal)\n",
    "mg       = cv.morphologyEx(img,cv.MORPH_GRADIENT,kernal)\n",
    "\n",
    "titles = [\"dilation\",\"erosion\",\"opening\",\"closing\",\"th\",\"mg\"]\n",
    "images = [dilation,erosion,opening,closing,th,mg]\n",
    "\n",
    "for i in range(6):\n",
    "    plt.subplot(3,3,i+1),plt.imshow(images[i],\"gray\")\n",
    "    plt.title(titles[i])\n",
    "    plt.xticks([]),plt.yticks([])\n",
    "\n",
    "plt.show()\n",
    "\n",
    "cv.waitKey(0)\n",
    "cv.destroyAllWindows()\n",
    "    "
   ]
  },
  {
   "cell_type": "code",
   "execution_count": null,
   "metadata": {},
   "outputs": [],
   "source": []
  }
 ],
 "metadata": {
  "kernelspec": {
   "display_name": "Python 3",
   "language": "python",
   "name": "python3"
  },
  "language_info": {
   "codemirror_mode": {
    "name": "ipython",
    "version": 3
   },
   "file_extension": ".py",
   "mimetype": "text/x-python",
   "name": "python",
   "nbconvert_exporter": "python",
   "pygments_lexer": "ipython3",
   "version": "3.7.3"
  }
 },
 "nbformat": 4,
 "nbformat_minor": 2
}
