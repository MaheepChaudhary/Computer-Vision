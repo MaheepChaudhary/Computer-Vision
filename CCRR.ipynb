{
 "cells": [
  {
   "cell_type": "code",
   "execution_count": 93,
   "metadata": {},
   "outputs": [],
   "source": [
    "import random\n",
    "l,p=[],[]\n",
    "start=0\n",
    "genre=[]\n",
    "#l is list of user\n",
    "#p is list of articles\n",
    "for i in range(1,101):\n",
    "    l.append(\"user\"+\" \"+str(i))  \n",
    "for j in range(1,201):\n",
    "    p.append(\"article \"+str(j))\n",
    "\n",
    "# here we are dividing artices into genres\n",
    "for j in range(1,11):\n",
    "    for k in range(start,20*j):\n",
    "        p[k] += (\" genre \"+str(j))\n",
    "    start=20*int(j)\n",
    "    \n",
    "#making a genre folder with 20 article in every genre\n",
    "k=0\n",
    "for i in range(1,11):\n",
    "    genre.append(p[k:k+20])\n",
    "    k+=20\n",
    "\n",
    "#Now dividing list of users into 3 categories randomly\n",
    "random.shuffle(l)\n",
    "beginner = l[0:30]\n",
    "medium = l[30:80]\n",
    "expert = l[80:]\n",
    "\n",
    "#gen_beg is the genres asiigned to beginner user \n",
    "gen_beg = []\n",
    "for i in range(30):\n",
    "    x=[]\n",
    "    n = random.randint(5,7)\n",
    "    x=(random.sample(range(1,10),n))\n",
    "    gen_beg.append(x)    \n",
    "\n",
    "\n",
    "#gen_med is the genres asiigned to beginner user \n",
    "gen_med = []\n",
    "for i in range(50):\n",
    "    x=[]\n",
    "    n = random.randint(3,4)\n",
    "    x=(random.sample(range(1,10),n))\n",
    "    gen_med.append(x)    \n",
    "\n",
    "#gen_exp is the genres asiigned to beginner user \n",
    "gen_exp = []\n",
    "for i in range(20):\n",
    "    x=[]\n",
    "    n = random.randint(1,2)\n",
    "    x=(random.sample(range(1,10),n))\n",
    "    gen_exp.append((x))    \n"
   ]
  },
  {
   "cell_type": "code",
   "execution_count": 92,
   "metadata": {},
   "outputs": [],
   "source": [
    "#for all beginner code and begdict is the dictionary which holds the user and coresponding addresed articles with genres\n",
    "begdict={}\n",
    "for i in beginner:\n",
    "    for j in gen_beg:\n",
    "        n=[]\n",
    "        for k in j:\n",
    "            random.shuffle(genre[(int(k)-1)])\n",
    "            num=random.randint(2,4)\n",
    "            n.extend(genre[(int(k)-1)][:num])\n",
    "        begdict[i]=n\n",
    "for keys,values in begdict.items():\n",
    "    for q in range(len(values)):\n",
    "        begdict[keys][q] = tuple(list([begdict[keys][q],random.randint(3,5)]))\n",
    "       "
   ]
  },
  {
   "cell_type": "code",
   "execution_count": 91,
   "metadata": {},
   "outputs": [],
   "source": [
    "#for all medium code and meddict is the dictionary which holds the user and coresponding addresed articles with genres\n",
    "meddict={}\n",
    "for i in medium:\n",
    "    for j in gen_med:\n",
    "        n=[]\n",
    "        for k in j:\n",
    "            random.shuffle(genre[(int(k)-1)])\n",
    "            num=random.randint(6,10)\n",
    "            n.extend(genre[(int(k)-1)][:num])\n",
    "        meddict[i]=n\n",
    "for keys,values in meddict.items():\n",
    "    for q in range(len(values)):\n",
    "        meddict[keys][q] = tuple(list([meddict[keys][q],random.randint(3,5)]))\n"
   ]
  },
  {
   "cell_type": "code",
   "execution_count": 90,
   "metadata": {},
   "outputs": [],
   "source": [
    "#for all expert code and expdict is the dictionary which holds the user and coresponding addresed articles with genres\n",
    "expdict={}\n",
    "\n",
    "for i in expert:\n",
    "    for j in gen_exp:\n",
    "        n=[]\n",
    "        for k1 in j:\n",
    "            random.shuffle(genre[(int(k1)-1)])\n",
    "            num=random.randint(12,16)\n",
    "            n.extend(genre[(int(k1)-1)][:num])\n",
    "        expdict[i]=n\n",
    "for keys,values in expdict.items():\n",
    "    for q in range(len(values)):\n",
    "        expdict[keys][q] = tuple(list([expdict[keys][q],random.randint(3,5)]))\n"
   ]
  },
  {
   "cell_type": "code",
   "execution_count": null,
   "metadata": {},
   "outputs": [],
   "source": []
  }
 ],
 "metadata": {
  "kernelspec": {
   "display_name": "Python 3",
   "language": "python",
   "name": "python3"
  },
  "language_info": {
   "codemirror_mode": {
    "name": "ipython",
    "version": 3
   },
   "file_extension": ".py",
   "mimetype": "text/x-python",
   "name": "python",
   "nbconvert_exporter": "python",
   "pygments_lexer": "ipython3",
   "version": "3.7.3"
  }
 },
 "nbformat": 4,
 "nbformat_minor": 2
}
