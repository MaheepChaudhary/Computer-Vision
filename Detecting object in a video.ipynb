{
 "cells": [
  {
   "cell_type": "code",
   "execution_count": 1,
   "metadata": {},
   "outputs": [
    {
     "name": "stdout",
     "output_type": "stream",
     "text": [
      "Requirement already satisfied: opencv-python in c:\\users\\maheep chaudhary\\anaconda3\\lib\\site-packages (4.1.2.30)\n",
      "Requirement already satisfied: numpy>=1.14.5 in c:\\users\\maheep chaudhary\\anaconda3\\lib\\site-packages (from opencv-python) (1.16.4)\n"
     ]
    }
   ],
   "source": [
    "!pip install opencv-python"
   ]
  },
  {
   "cell_type": "code",
   "execution_count": 5,
   "metadata": {},
   "outputs": [
    {
     "name": "stdout",
     "output_type": "stream",
     "text": [
      "[[-0.00908713 -0.01008364 -0.01116525 ...  0.19914497  0.19911414\n",
      "   0.19927903]\n",
      " [-0.0080052  -0.00909889 -0.01026889 ...  0.20643091  0.20678341\n",
      "   0.20728926]\n",
      " [-0.00783547 -0.00904742 -0.01031455 ...  0.21379495  0.21448018\n",
      "   0.2152735 ]\n",
      " ...\n",
      " [-0.03424818 -0.03540318 -0.03661122 ... -0.02971025 -0.031098\n",
      "  -0.03233888]\n",
      " [-0.04060483 -0.04208111 -0.04354648 ... -0.02908387 -0.03061636\n",
      "  -0.0319998 ]\n",
      " [-0.0461661  -0.04786884 -0.0494907  ... -0.02770763 -0.02931452\n",
      "  -0.03076775]]\n",
      "(array([], dtype=int64), array([], dtype=int64))\n"
     ]
    }
   ],
   "source": [
    "import cv2 as cv\n",
    "import numpy as np\n",
    "\n",
    "vid = cv.VideoCapture(\"Cars.mp4\")\n",
    "img = cv.imread(\"ss.png\",0)\n",
    "cv.imshow(\"image\",img)\n",
    "n=0\n",
    "while(True):\n",
    "    ret,frame = vid.read()\n",
    "    n+=1\n",
    "    gray_frame = cv.cvtColor(frame,cv.COLOR_BGR2GRAY)\n",
    "#    gray_frame = frame.copy()\n",
    "    w,h = img.shape[::-1]\n",
    "    res = cv.matchTemplate(gray_frame,img,cv.TM_CCOEFF_NORMED)\n",
    "    print(res)\n",
    "    threshold = 0.95\n",
    "    loc = np.where(res >= threshold) \n",
    "    if cv.waitKey(27) & 0xFF == ord(\"q\"):\n",
    "        break\n",
    "    if(len(loc)>1):\n",
    "        print(loc)\n",
    "        for pt in zip(*loc[::-1]):\n",
    "            cv.rectangle(frame,pt,(pt[0]+w,pt[1]+h),(0,0,0),3)\n",
    "        f = frame.copy()    \n",
    "        cv.imshow(\"frame\",frame)\n",
    "        cv.waitKey(9000)\n",
    "        break\n",
    "cv.imshow(\"f\",f)    \n",
    "cv.waitKey(4000)\n",
    "vid.release()        \n",
    "cv.destroyAllWindows()"
   ]
  },
  {
   "cell_type": "code",
   "execution_count": null,
   "metadata": {},
   "outputs": [],
   "source": []
  }
 ],
 "metadata": {
  "kernelspec": {
   "display_name": "Python 3",
   "language": "python",
   "name": "python3"
  },
  "language_info": {
   "codemirror_mode": {
    "name": "ipython",
    "version": 3
   },
   "file_extension": ".py",
   "mimetype": "text/x-python",
   "name": "python",
   "nbconvert_exporter": "python",
   "pygments_lexer": "ipython3",
   "version": "3.7.3"
  }
 },
 "nbformat": 4,
 "nbformat_minor": 2
}
