{
 "cells": [
  {
   "cell_type": "code",
   "execution_count": 1,
   "metadata": {},
   "outputs": [
    {
     "name": "stdout",
     "output_type": "stream",
     "text": [
      "Requirement already satisfied: opencv-python in c:\\users\\maheep chaudhary\\anaconda3\\lib\\site-packages (4.1.2.30)\n",
      "Requirement already satisfied: numpy>=1.14.5 in c:\\users\\maheep chaudhary\\anaconda3\\lib\\site-packages (from opencv-python) (1.16.4)\n",
      "Requirement already satisfied: imutils in c:\\users\\maheep chaudhary\\anaconda3\\lib\\site-packages (0.5.3)\n"
     ]
    }
   ],
   "source": [
    "!pip install opencv-python\n",
    "!pip install imutils"
   ]
  },
  {
   "cell_type": "code",
   "execution_count": 3,
   "metadata": {},
   "outputs": [],
   "source": [
    "import cv2 as cv\n",
    "import imutils\n",
    "\n",
    "vid = cv.VideoCapture(\"Cars.mp4\")\n",
    "\n",
    "_,frame1 = vid.read()\n",
    "_,frame2 = vid.read()\n",
    "\n",
    "while vid.isOpened():\n",
    "    ret,frame = vid.read()\n",
    "    if ret == False:\n",
    "        break\n",
    "    \n",
    " \n",
    "    diff  = cv.absdiff(frame1,frame2)\n",
    "    gray  = cv.cvtColor(diff,cv.COLOR_BGR2GRAY)  \n",
    "\n",
    "    cv.imshow(\"frame\",gray)\n",
    "    blur  = cv.GaussianBlur(gray,(5,5),0)\n",
    "    _,thresh = cv.threshold(blur,20,255,cv.THRESH_BINARY)\n",
    "    dialation = cv.dilate(thresh,None,iterations = 3)\n",
    "    contours,_ = cv.findContours(dialation,cv.RETR_TREE,cv.CHAIN_APPROX_SIMPLE)\n",
    "    \n",
    "#    cv.drawContours(frame1,contours,-1,(0,0,255),3)\n",
    "#    frame1 = imutils.resize(frame1, width=1000)\n",
    "#    frame1 = imutils.resize(frame1,height = 530)    \n",
    "    \n",
    "    for contour in contours:\n",
    "        \n",
    "        (x,y,w,h) = cv.boundingRect(contour)\n",
    "        if cv.contourArea(contour) < 700:\n",
    "             continue\n",
    "        cv.rectangle(frame1,(x,y),(x+w,y+h),(0,0,255),3)   \n",
    "        cv.putText(frame1,\"Movement\",(10,20),cv.FONT_HERSHEY_SIMPLEX,1,(0,255,0),3)\n",
    "        \n",
    "    \n",
    "    cv.imshow(\"frame1\",frame1)\n",
    "    \n",
    "    frame1 = frame2\n",
    "    frame2  = frame\n",
    "#    _,thresh = cv.Threshold() \n",
    "#    cv.imshow(\"frame\",frame)\n",
    "    if cv.waitKey(45) & 0xFF == ord(\"p\"):\n",
    "        break\n",
    "\n",
    "cv.destroyAllWindows()\n",
    "vid.release()"
   ]
  },
  {
   "cell_type": "code",
   "execution_count": null,
   "metadata": {},
   "outputs": [],
   "source": []
  },
  {
   "cell_type": "code",
   "execution_count": null,
   "metadata": {},
   "outputs": [],
   "source": []
  }
 ],
 "metadata": {
  "kernelspec": {
   "display_name": "Python 3",
   "language": "python",
   "name": "python3"
  },
  "language_info": {
   "codemirror_mode": {
    "name": "ipython",
    "version": 3
   },
   "file_extension": ".py",
   "mimetype": "text/x-python",
   "name": "python",
   "nbconvert_exporter": "python",
   "pygments_lexer": "ipython3",
   "version": "3.7.3"
  }
 },
 "nbformat": 4,
 "nbformat_minor": 2
}
