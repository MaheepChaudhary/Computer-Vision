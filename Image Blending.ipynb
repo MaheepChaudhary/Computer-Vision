{
 "cells": [
  {
   "cell_type": "code",
   "execution_count": 1,
   "metadata": {},
   "outputs": [
    {
     "name": "stdout",
     "output_type": "stream",
     "text": [
      "Requirement already satisfied: opencv-python in c:\\users\\maheep chaudhary\\anaconda3\\lib\\site-packages (4.1.2.30)\n",
      "Requirement already satisfied: numpy>=1.14.5 in c:\\users\\maheep chaudhary\\anaconda3\\lib\\site-packages (from opencv-python) (1.16.4)\n"
     ]
    }
   ],
   "source": [
    "!pip install opencv-python"
   ]
  },
  {
   "cell_type": "code",
   "execution_count": 3,
   "metadata": {},
   "outputs": [],
   "source": [
    "import cv2 as cv\n",
    "import numpy as np\n",
    "\n",
    "appul = cv.imread(\"apple.jpg\")\n",
    "orang  = cv.imread(\"orange.jpg\")\n",
    "\n",
    "apple  = appul.copy()\n",
    "orange = orang.copy()\n",
    "\n",
    "\n",
    "#cv.imshow(\"orange\",layero)\n",
    "#cv.imshow(\"apple\",layer)\n",
    "\n",
    "#gp is the gaussian pyramid array\n",
    "gp_apple = [apple]\n",
    "gp_orange = [orange]\n",
    "\n",
    "for i in range(6):\n",
    "    apple=cv.pyrDown(apple)\n",
    "    gp_apple.append(apple)\n",
    "#    cv.imshow(str(i),layer)\n",
    "\n",
    "for i in range(6):\n",
    "    orange=cv.pyrDown(orange)\n",
    "    gp_orange.append(orange)\n",
    "#    cv.imshow(str(i),layero)\n",
    "cv.imshow(\"ag\",gp_apple[5])\n",
    "#lp is the laplacian pyramid\n",
    "lp_orange = []\n",
    "lp_apple  = []\n",
    "#apple_orange_pyramid\n",
    "#apple_orange_pyramid = []\n",
    "lp_apple = [gp_apple[5]]\n",
    "lp_orange  = [gp_orange[5]]\n",
    "\n",
    "for i in range(5,0,-1):\n",
    "    extended_gaussian_apple =  gp_apple[i]\n",
    "    extended_gaussian_apple = cv.pyrUp(gp_apple[i])\n",
    "    laplacion = cv.subtract(gp_apple[i-1],extended_gaussian_apple)\n",
    "    lp_apple.append(laplacion)\n",
    "#    cv.imshow(str(i),laplacion)\n",
    "\n",
    "for i in range(5,0,-1):\n",
    "    extended_gaussian_orange = cv.pyrUp(gp_orange[i])\n",
    "    laplacian = cv.subtract(gp_orange[i-1],extended_gaussian_orange)\n",
    "    lp_orange.append(laplacian)\n",
    "#    cv.imshow(str(i),laplacian)\n",
    "\n",
    "\n",
    "apple_orange_pyramid  =  []\n",
    "\n",
    "for lap_apple,lap_orange in zip(lp_apple,lp_orange):\n",
    "    cols,rows,channel  = lap_apple.shape\n",
    "    laplacian = np.hstack((lap_apple[:,0:int(cols/2)],lap_orange[:,int(cols/2):]))\n",
    "    apple_orange_pyramid.append(laplacian)\n",
    "    \n",
    "for i in range(len(apple_orange_pyramid)):\n",
    "    cv.imshow(\"lp_orange\"+str(i),apple_orange_pyramid[i])    \n",
    "#reconstructing the images\n",
    "image =  apple_orange_pyramid[0]\n",
    "cv.imshow(\"ima\",image)\n",
    "for i in range(1,6):\n",
    "    image  =  cv.pyrUp(image)\n",
    "    image  = cv.add(apple_orange_pyramid[i],image)\n",
    "    \n",
    "#cv.imshow(\"appul\",appul)\n",
    "#cv.imshow(\"orang\",orang)\n",
    "cv.imshow(\"image\",image)\n",
    "    \n",
    "\n",
    "    \n",
    "cv.waitKey(0)\n",
    "cv.destroyAllWindows()\n"
   ]
  },
  {
   "cell_type": "code",
   "execution_count": null,
   "metadata": {},
   "outputs": [],
   "source": []
  },
  {
   "cell_type": "code",
   "execution_count": null,
   "metadata": {},
   "outputs": [],
   "source": []
  }
 ],
 "metadata": {
  "kernelspec": {
   "display_name": "Python 3",
   "language": "python",
   "name": "python3"
  },
  "language_info": {
   "codemirror_mode": {
    "name": "ipython",
    "version": 3
   },
   "file_extension": ".py",
   "mimetype": "text/x-python",
   "name": "python",
   "nbconvert_exporter": "python",
   "pygments_lexer": "ipython3",
   "version": "3.7.3"
  }
 },
 "nbformat": 4,
 "nbformat_minor": 2
}
